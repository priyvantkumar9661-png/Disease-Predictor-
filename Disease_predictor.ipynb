{
  "nbformat": 4,
  "nbformat_minor": 0,
  "metadata": {
    "colab": {
      "provenance": [],
      "authorship_tag": "ABX9TyNpuuUdLvMS4lKsadVcNFKj",
      "include_colab_link": true
    },
    "kernelspec": {
      "name": "python3",
      "display_name": "Python 3"
    },
    "language_info": {
      "name": "python"
    }
  },
  "cells": [
    {
      "cell_type": "markdown",
      "metadata": {
        "id": "view-in-github",
        "colab_type": "text"
      },
      "source": [
        "<a href=\"https://colab.research.google.com/github/priyvantkumar9661-png/Disease-Predictor-/blob/main/Disease_predictor.ipynb\" target=\"_parent\"><img src=\"https://colab.research.google.com/assets/colab-badge.svg\" alt=\"Open In Colab\"/></a>"
      ]
    },
    {
      "cell_type": "code",
      "execution_count": null,
      "metadata": {
        "id": "nsBRH6N7qN4a"
      },
      "outputs": [],
      "source": [
        "from google.colab import files\n",
        "files.upload()"
      ]
    },
    {
      "cell_type": "code",
      "source": [
        "!mkdir -p ~/.kaggle\n",
        "!cp kaggle.json ~/.kaggle/\n",
        "!chmod 600 ~/.kaggle/kaggle.json"
      ],
      "metadata": {
        "id": "JKIhEoxQrtAl"
      },
      "execution_count": null,
      "outputs": []
    },
    {
      "cell_type": "code",
      "source": [
        "!pip install kaggle"
      ],
      "metadata": {
        "id": "-9OOjaasruOz"
      },
      "execution_count": null,
      "outputs": []
    },
    {
      "cell_type": "code",
      "source": [
        "!kaggle datasets download -d redwankarimsony/heart-disease-data -p /content/heart-disease --unzip"
      ],
      "metadata": {
        "id": "ueKI_mBzsDTc"
      },
      "execution_count": null,
      "outputs": []
    },
    {
      "cell_type": "code",
      "source": [
        "import pandas as pd\n",
        "df=pd.read_csv('/content/heart-disease/heart_disease_uci.csv')"
      ],
      "metadata": {
        "id": "2jGl9HZisGC5"
      },
      "execution_count": null,
      "outputs": []
    },
    {
      "cell_type": "code",
      "source": [
        "df.head()"
      ],
      "metadata": {
        "id": "CbsNqCdwsGKW"
      },
      "execution_count": null,
      "outputs": []
    },
    {
      "cell_type": "code",
      "source": [
        "print(df.columns)"
      ],
      "metadata": {
        "id": "B8jVZjFVsGPD"
      },
      "execution_count": null,
      "outputs": []
    },
    {
      "cell_type": "code",
      "source": [
        "df.isnull().sum()"
      ],
      "metadata": {
        "id": "AmdQqSyBsGTp"
      },
      "execution_count": null,
      "outputs": []
    },
    {
      "cell_type": "code",
      "source": [
        "numeric_cols= df.select_dtypes(include='number').columns\n",
        "df[numeric_cols]= df[numeric_cols].fillna(df[numeric_cols].mean())"
      ],
      "metadata": {
        "id": "pIzJ4UdqsGZ1"
      },
      "execution_count": null,
      "outputs": []
    },
    {
      "cell_type": "code",
      "source": [
        "import matplotlib.pyplot as plt\n",
        "import seaborn as sns"
      ],
      "metadata": {
        "id": "ixA7ibb3seVW"
      },
      "execution_count": null,
      "outputs": []
    },
    {
      "cell_type": "code",
      "source": [
        "df[numeric_cols].hist(figsize=(15,10))\n",
        "plt.tight_layout()\n",
        "plt.show()"
      ],
      "metadata": {
        "id": "aPvaaFAFsfhC"
      },
      "execution_count": null,
      "outputs": []
    },
    {
      "cell_type": "code",
      "source": [
        "sns.heatmap(df[numeric_cols].corr(), annot=True, cmap='coolwarm')\n",
        "plt.title('Numeric Feature Correlation')\n",
        "plt.show()"
      ],
      "metadata": {
        "id": "GMqekgT4sfyZ"
      },
      "execution_count": null,
      "outputs": []
    },
    {
      "cell_type": "code",
      "source": [
        "cat_cols = df.select_dtypes(include='object').columns.tolist() # one-hot encode All 'object' categorical columns.\n",
        "if 'num' in cat_cols:\n",
        "  cat_cols.remove('num') #Don't incode target column."
      ],
      "metadata": {
        "id": "O3pev3srsgQv"
      },
      "execution_count": null,
      "outputs": []
    },
    {
      "cell_type": "code",
      "source": [
        "x = df.drop('num', axis=1)\n",
        "y = (df['num'] > 0).astype(int) #0: no diseas, 1: disease present."
      ],
      "metadata": {
        "id": "1QV8sn_TsgzV"
      },
      "execution_count": null,
      "outputs": []
    },
    {
      "cell_type": "code",
      "source": [
        "x = pd.get_dummies(x, columns=cat_cols)\n",
        "print(\"Final festure columns:\",x.columns)"
      ],
      "metadata": {
        "id": "rpv3TZzkshc5"
      },
      "execution_count": null,
      "outputs": []
    },
    {
      "cell_type": "code",
      "source": [
        "from sklearn.model_selection import train_test_split\n",
        "from sklearn.preprocessing import StandardScaler"
      ],
      "metadata": {
        "id": "Ca0cPGS8sh9i"
      },
      "execution_count": null,
      "outputs": []
    },
    {
      "cell_type": "code",
      "source": [
        "x_train, x_test, y_train, y_test = train_test_split(x, y, test_size=0.2, random_state=42)"
      ],
      "metadata": {
        "id": "Nm-Z4rmytGQl"
      },
      "execution_count": null,
      "outputs": []
    },
    {
      "cell_type": "code",
      "source": [
        "scaler=StandardScaler()\n",
        "x_train_scaled=scaler.fit_transform(x_train)\n",
        "x_test_scaled= scaler.transform(x_test)"
      ],
      "metadata": {
        "id": "DfZ3DYu7tGh2"
      },
      "execution_count": null,
      "outputs": []
    },
    {
      "cell_type": "code",
      "source": [
        "from sklearn.linear_model import LogisticRegression #its about classification."
      ],
      "metadata": {
        "id": "Nd0VfEqktHQV"
      },
      "execution_count": null,
      "outputs": []
    },
    {
      "cell_type": "code",
      "source": [
        "lr_model= LogisticRegression() #giving new data\n",
        "lr_model.fit(x_train_scaled, y_train) #training step"
      ],
      "metadata": {
        "id": "sup7UwA4tHxa"
      },
      "execution_count": null,
      "outputs": []
    },
    {
      "cell_type": "code",
      "source": [
        "from sklearn.metrics import accuracy_score, classification_report"
      ],
      "metadata": {
        "id": "L0zCyC2NtIfd"
      },
      "execution_count": null,
      "outputs": []
    },
    {
      "cell_type": "code",
      "source": [
        "y_pred_lr= lr_model.predict(x_test_scaled)\n",
        "print(\"Logistic Regression Accuracy:\", accuracy_score(y_test, y_pred_lr))\n",
        "print(classification_report(y_test, y_pred_lr))"
      ],
      "metadata": {
        "id": "_OlSYQbTtI_B"
      },
      "execution_count": null,
      "outputs": []
    },
    {
      "cell_type": "code",
      "source": [
        "from sklearn.metrics import confusion_matrix"
      ],
      "metadata": {
        "id": "mPb9No-uuDYK"
      },
      "execution_count": null,
      "outputs": []
    },
    {
      "cell_type": "code",
      "source": [
        "cm=confusion_matrix(y_test, y_pred_lr)\n",
        "sns.heatmap(cm, annot=True, fmt='d', cmap='Blues')\n",
        "plt.title('Confusion Matrix (Logistic Regression)')\n",
        "plt.show"
      ],
      "metadata": {
        "id": "6ypXWnwyuDrY"
      },
      "execution_count": null,
      "outputs": []
    },
    {
      "cell_type": "code",
      "source": [
        "from sklearn.ensemble import RandomForestClassifier"
      ],
      "metadata": {
        "id": "p1Zd0RQQuQl-"
      },
      "execution_count": null,
      "outputs": []
    },
    {
      "cell_type": "code",
      "source": [
        "rf_model = RandomForestClassifier(n_estimators=100, random_state=42)\n",
        "rf_model.fit(x_train_scaled,y_train)\n",
        "y_pred_rf = rf_model.predict(x_test_scaled)\n",
        "print(\"Random Forest Accuracy:\", accuracy_score(y_test, y_pred_rf))"
      ],
      "metadata": {
        "id": "NR3J0u9luQ_Q"
      },
      "execution_count": null,
      "outputs": []
    },
    {
      "cell_type": "code",
      "source": [
        "feat_imp = pd.Series(rf_model.feature_importances_, index=x.columns)\n",
        "feat_imp.nlargest(10).plot(kind='barh')\n",
        "plt.title('Random Forest Feature Importance')\n",
        "plt.show()"
      ],
      "metadata": {
        "id": "jVj6svyTuR-M"
      },
      "execution_count": null,
      "outputs": []
    },
    {
      "cell_type": "code",
      "source": [
        "import joblib\n",
        "joblib.dump(rf_model, 'heart_rf_model.pkl')"
      ],
      "metadata": {
        "id": "Zxco90eGuSet"
      },
      "execution_count": null,
      "outputs": []
    },
    {
      "cell_type": "code",
      "source": [
        "joblib.dump(scaler, 'heart_scaler.pkl')"
      ],
      "metadata": {
        "id": "Ces126tYuS_H"
      },
      "execution_count": null,
      "outputs": []
    },
    {
      "cell_type": "code",
      "source": [
        "sample= x.head(1)\n",
        "sample.to_csv('Heart_user_template.csv', index=False)\n",
        "print(\"User template saved as 'Heart_user_template.csv' \")"
      ],
      "metadata": {
        "id": "7uZgmDnXuTl-"
      },
      "execution_count": null,
      "outputs": []
    },
    {
      "cell_type": "code",
      "source": [
        "from google.colab import files\n",
        "files.upload()"
      ],
      "metadata": {
        "id": "Q3QRgxliuUNU"
      },
      "execution_count": null,
      "outputs": []
    },
    {
      "cell_type": "code",
      "source": [
        "import joblib\n",
        "import pandas as pd\n",
        "\n",
        "user_df = pd.read_csv('heart_dataset.csv')\n",
        "\n",
        "#Getting columns list from traing dataframe\n",
        "numeric_cols = df.select_dtypes(include='number').columns.tolist()\n",
        "cat_cols=df.select_dtypes(include='object').columns.tolist()\n",
        "bool_cols=df.select_dtypes(include='bool').columns.tolist()\n",
        "\n",
        "#Droppping columns which are extra in user_df than required to avoid error\n",
        "numeric_cols=[col for col in numeric_cols if col in user_df.columns]\n",
        "cat_cols=[col for col in cat_cols if col in user_df.columns]\n",
        "bool_cols=[col for col in bool_cols if col in user_df.columns]\n",
        "\n",
        "#Fill the missing numeric columns, cat columns and boolean columns\n",
        "user_df[numeric_cols]= user_df[numeric_cols].fillna(user_df[numeric_cols].mean())\n",
        "\n",
        "for col in cat_cols:\n",
        "  user_df[col]=user_df[col].fillna('Unknown')\n",
        "\n",
        "for col in bool_cols:\n",
        "    user_df[col]=user_df[col].astype(int)\n",
        "\n",
        "#One-hot encoding cat columns\n",
        "user_df_encoded=pd.get_dummies(user_df, columns=cat_cols)\n",
        "\n",
        "#Allign columns\n",
        "user_df_encoded = user_df_encoded.reindex(columns=x.columns, fill_value=0)\n",
        "\n",
        "#Scale data\n",
        "scaler = joblib.load('heart_scaler.pkl')\n",
        "user_df_scaled=scaler.transform(user_df_encoded)\n",
        "\n",
        "#Prediction\n",
        "model=joblib.load('heart_rf_model.pkl')\n",
        "preds=model.predict(user_df_scaled)\n",
        "user_df['Heart_Disease_Prediction']=preds\n",
        "\n",
        "#Show result\n",
        "print(user_df)"
      ],
      "metadata": {
        "id": "ciO3DrsxuUrQ"
      },
      "execution_count": null,
      "outputs": []
    }
  ]
}